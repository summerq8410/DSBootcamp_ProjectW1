{
 "cells": [
  {
   "cell_type": "markdown",
   "metadata": {},
   "source": [
    "# Data Science Boot Camp Project 1"
   ]
  },
  {
   "cell_type": "markdown",
   "metadata": {},
   "source": [
    "## (1) Reading Input Data from Files"
   ]
  },
  {
   "cell_type": "code",
   "execution_count": 9,
   "metadata": {
    "collapsed": true
   },
   "outputs": [],
   "source": [
    "import numpy as np\n",
    "import pandas as pd"
   ]
  },
  {
   "cell_type": "code",
   "execution_count": 10,
   "metadata": {
    "collapsed": false
   },
   "outputs": [],
   "source": [
    "#imports\n",
    "import os\n",
    "import json\n",
    "import pyprind\n",
    "\n",
    "\n",
    "#defining function load_mojo_data\n",
    "#which will read all data files and return list of dictionaries\n",
    "#each dictionary = info for one movie\n",
    "def load_mojo_data(baseDirectory = \"/Users/gjs830//GitHub/DataScienceBootcamp/ct16_cap1_ds5/project_1/\"):\n",
    "    \"\"\"\n",
    "       Output: List of Dictionary of Movie\n",
    "    \"\"\"\n",
    "    try:\n",
    "        import numpy as np\n",
    "        print \"Start Loading MOJO DATA:\"\n",
    "        DATA_DIR = os.path.join(baseDirectory,'data', 'boxofficemojo')\n",
    "\n",
    "        DataFileList = [dataFileName for dataFileName in os.listdir(DATA_DIR) if \".json\" in dataFileName ]\n",
    "        MovieInfoList = []\n",
    "\n",
    "        n = len(DataFileList)\n",
    "        bar = pyprind.ProgBar(n, bar_char='X')\n",
    "\n",
    "        i = 0\n",
    "        for dataFileName in DataFileList:\n",
    "            i+=1\n",
    "            target_file_path = os.path.join(DATA_DIR, dataFileName)\n",
    "            with open(target_file_path, 'r') as target_file:\n",
    "                movie = json.load(target_file)\n",
    "\n",
    "\n",
    "                if type(movie) is not dict:\n",
    "                    continue\n",
    "                columnNames = [\"alt_title\", \"director\", \"domestic_gross\", \"mojo_slug\", \"opening_per_theater\", \\\n",
    "                               \"opening_weekend_take\", \"production_budget\", \"release_date_limited\", \\\n",
    "                               \"release_date_wide\", \"title\", \"widest_release\", \"worldwide_gross\", \"year\"]\n",
    "                for columnName in columnNames:\n",
    "                    if columnName not in movie:\n",
    "                        movie[columnName] = np.nan\n",
    "\n",
    "                MovieInfoList.append(movie)\n",
    "            bar.update(item_id = i)\n",
    "        print \"Finish Loading MOJO DATA:\"\n",
    "        return MovieInfoList\n",
    "    except Exception as ex:\n",
    "        print \"Error loading MOJO data: \" + \" \".join([str(x) for x in ex.args])\n",
    "        raise(ex)\n",
    "\n",
    "def load_critic_data(baseDirectory = \"/Users/gjs830//GitHub/DataScienceBootcamp/ct16_cap1_ds5/project_1/\"):\n",
    "    \"\"\"\n",
    "       Output: List of Dictionary of Movie\n",
    "    \"\"\"\n",
    "    import numpy as np\n",
    "    try:\n",
    "        print \"Start Loading CRITIC DATA:\"\n",
    "        DATA_DIR = os.path.join(baseDirectory,'data', 'metacritic')\n",
    "\n",
    "        DataFileList = [dataFileName for dataFileName in os.listdir(DATA_DIR) if \".json\" in dataFileName ]\n",
    "        CriticInfoList = []\n",
    "\n",
    "        n = len(DataFileList)\n",
    "        bar = pyprind.ProgBar(n, bar_char='X')\n",
    "\n",
    "        i = 0\n",
    "        for dataFileName in DataFileList:\n",
    "            i+=1\n",
    "            target_file_path = os.path.join(DATA_DIR, dataFileName)\n",
    "            with open(target_file_path, 'r') as target_file:\n",
    "                critic = json.load(target_file)\n",
    "                if type(critic) is not dict:\n",
    "                    continue\n",
    "                columnNames = [\"complete\", \"director\", \"genre\", \"metacritic_page\", \"metascore\", \\\n",
    "                               \"num_critic_reviews\", \"num_user_ratings\", \"num_user_reviews\", \\\n",
    "                               \"rating\", \"release_date\", \"runtime_minutes\", \"studio\", \\\n",
    "                               \"title\", \"user_score\", \"year\"]\n",
    "                for columnName in columnNames:\n",
    "                    if columnName not in critic:\n",
    "                        critic[columnName] = np.nan\n",
    "                CriticInfoList.append(critic)\n",
    "            bar.update(item_id = i)\n",
    "        print \"Finish Loading CRITIC DATA:\"\n",
    "        return CriticInfoList\n",
    "    except Exception as ex:\n",
    "        print \"Error loading CRITIC data: \" + \" \".join([str(x) for x in ex.args])\n",
    "        raise(ex)"
   ]
  },
  {
   "cell_type": "code",
   "execution_count": 11,
   "metadata": {
    "collapsed": false
   },
   "outputs": [
    {
     "name": "stderr",
     "output_type": "stream",
     "text": [
      "0%                          100%\n",
      "[XXXXXXXXXXXXXXXXXXXXXXXXXX    ]"
     ]
    },
    {
     "name": "stdout",
     "output_type": "stream",
     "text": [
      "Start Loading MOJO DATA:\n"
     ]
    },
    {
     "name": "stderr",
     "output_type": "stream",
     "text": [
      "[XXXXXXXXXXXXXXXXXXXXXXXXXXXXXX] | ETA: 00:00:00 | Item ID: 3728\n",
      "Total time elapsed: 00:00:00\n"
     ]
    },
    {
     "name": "stdout",
     "output_type": "stream",
     "text": [
      "Finish Loading MOJO DATA:\n",
      "                           alt_title         director  domestic_gross  \\\n",
      "0                 10,000 B.C. (2008)  Roland Emmerich      94784201.0   \n",
      "1              102 Dalmatians (2000)             None      66957026.0   \n",
      "2  10 Things I Hate About You (1999)             None      38178166.0   \n",
      "3                    10 Years (2012)     Jamie Linden        203373.0   \n",
      "4                  11 Flowers (2013)             None          9213.0   \n",
      "\n",
      "               mojo_slug  opening_per_theater  opening_weekend_take  \\\n",
      "0                10000bc              10518.0            35867488.0   \n",
      "1          102dalmatians               7353.0            19883351.0   \n",
      "2  10thingsihateaboutyou               3668.0             8330681.0   \n",
      "3                10years               7569.0               22707.0   \n",
      "4              11flowers               1758.0                3516.0   \n",
      "\n",
      "   production_budget release_date_limited release_date_wide  \\\n",
      "0        105000000.0                 None        2008-03-07   \n",
      "1         85000000.0                 None        2000-11-22   \n",
      "2         30000000.0                 None        1999-03-31   \n",
      "3                NaN                 None        2012-09-14   \n",
      "4                NaN                 None        2013-02-22   \n",
      "\n",
      "                        title  widest_release  worldwide_gross    year  \n",
      "0                 10,000 B.C.          3454.0      269784201.0  2008.0  \n",
      "1             102 Dalmatians           2704.0      183611771.0  2000.0  \n",
      "2  10 Things I Hate About You          2311.0       53478166.0  1999.0  \n",
      "3                    10 Years            63.0         203373.0  2012.0  \n",
      "4                 11 Flowers              2.0              NaN  2013.0  \n",
      "(3728, 13)\n"
     ]
    }
   ],
   "source": [
    "movie_dicts = load_mojo_data()\n",
    "movie_df_raw = pd.DataFrame(movie_dicts)\n",
    "\n",
    "print movie_df_raw.head(5)\n",
    "print movie_df_raw.shape"
   ]
  },
  {
   "cell_type": "code",
   "execution_count": 12,
   "metadata": {
    "collapsed": false
   },
   "outputs": [
    {
     "name": "stdout",
     "output_type": "stream",
     "text": [
      "(3728, 13)\n",
      "alt_title                  0\n",
      "director                1556\n",
      "domestic_gross            75\n",
      "mojo_slug                  0\n",
      "opening_per_theater      180\n",
      "opening_weekend_take     180\n",
      "production_budget       2137\n",
      "release_date_limited    3435\n",
      "release_date_wide         10\n",
      "title                      0\n",
      "widest_release           152\n",
      "worldwide_gross          907\n",
      "year                       7\n",
      "dtype: int64\n"
     ]
    }
   ],
   "source": [
    "print movie_df_raw.shape\n",
    "print movie_df_raw.isnull().sum()"
   ]
  },
  {
   "cell_type": "code",
   "execution_count": null,
   "metadata": {
    "collapsed": true
   },
   "outputs": [],
   "source": []
  },
  {
   "cell_type": "code",
   "execution_count": 13,
   "metadata": {
    "collapsed": false
   },
   "outputs": [
    {
     "name": "stderr",
     "output_type": "stream",
     "text": [
      "0%                          100%\n",
      "[XXXXXXXXXXXXXX                ] | ETA: 00:00:00 | Item ID: 2226"
     ]
    },
    {
     "name": "stdout",
     "output_type": "stream",
     "text": [
      "Start Loading CRITIC DATA:\n"
     ]
    },
    {
     "name": "stderr",
     "output_type": "stream",
     "text": [
      "[XXXXXXXXXXXXXXXXXXXXXXXXXXXXX ] | ETA: 00:00:00 | Item ID: 4611"
     ]
    },
    {
     "name": "stdout",
     "output_type": "stream",
     "text": [
      "Finish Loading CRITIC DATA:\n",
      "  complete         director                        genre  \\\n",
      "0     True       Gil Junger            [Comedy, Romance]   \n",
      "1     True     Jamie Linden     [Drama, Comedy, Romance]   \n",
      "2     True  Roland Emmerich  [Adventure, Drama, Fantasy]   \n",
      "3     True    Stephen Herek  [Adventure, Comedy, Family]   \n",
      "4     True       Kevin Lima             [Comedy, Family]   \n",
      "\n",
      "                     metacritic_page  metascore num_critic_reviews  \\\n",
      "0  /movie/10-things-i-hate-about-you       70.0     [18, 7, 1, 26]   \n",
      "1                    /movie/10-years       61.0     [7, 11, 0, 18]   \n",
      "2                    /movie/10000-bc       34.0     [4, 8, 17, 29]   \n",
      "3              /movie/101-dalmatians       49.0      [8, 9, 3, 20]   \n",
      "4              /movie/102-dalmatians       35.0     [7, 5, 12, 24]   \n",
      "\n",
      "   num_user_ratings   num_user_reviews rating release_date  runtime_minutes  \\\n",
      "0             175.0     [27, 1, 1, 29]  PG-13   1999-03-31             97.0   \n",
      "1              12.0       [3, 2, 1, 6]      R   2012-09-14            100.0   \n",
      "2             273.0  [50, 18, 60, 128]  PG-13   2008-03-07            109.0   \n",
      "3              78.0      [5, 5, 0, 10]      G   1996-11-27            103.0   \n",
      "4              47.0      [7, 3, 3, 13]      G   2000-11-22            100.0   \n",
      "\n",
      "                     studio                       title unable to retrieve  \\\n",
      "0      Buena Vista Pictures  10 Things I Hate About You                NaN   \n",
      "1  Anchor Bay Entertainment                    10 Years                NaN   \n",
      "2     Warner Bros. Pictures                   10,000 BC                NaN   \n",
      "3      Buena Vista Pictures              101 Dalmatians                NaN   \n",
      "4      Buena Vista Pictures              102 Dalmatians                NaN   \n",
      "\n",
      "  user_score  year  \n",
      "0          7  1999  \n",
      "1        6.6  2012  \n",
      "2        4.6  2008  \n",
      "3        5.9  1996  \n",
      "4        5.3  2000  \n",
      "(4765, 16)\n"
     ]
    }
   ],
   "source": [
    "critic_dicts = load_critic_data()\n",
    "critic_df_raw = pd.DataFrame(critic_dicts)\n",
    "\n",
    "print critic_df_raw.head(5)\n",
    "print critic_df_raw.shape"
   ]
  },
  {
   "cell_type": "code",
   "execution_count": 14,
   "metadata": {
    "collapsed": false
   },
   "outputs": [
    {
     "name": "stdout",
     "output_type": "stream",
     "text": [
      "(4765, 16)\n",
      "complete                 2\n",
      "director                 2\n",
      "genre                    2\n",
      "metacritic_page          2\n",
      "metascore              177\n",
      "num_critic_reviews       2\n",
      "num_user_ratings       284\n",
      "num_user_reviews         2\n",
      "rating                   2\n",
      "release_date             2\n",
      "runtime_minutes         97\n",
      "studio                  40\n",
      "title                    2\n",
      "unable to retrieve    4763\n",
      "user_score               2\n",
      "year                     2\n",
      "dtype: int64\n"
     ]
    }
   ],
   "source": [
    "print critic_df_raw.shape\n",
    "print critic_df_raw.isnull().sum()"
   ]
  },
  {
   "cell_type": "code",
   "execution_count": 15,
   "metadata": {
    "collapsed": true
   },
   "outputs": [],
   "source": [
    "movie_df_raw['scrubbed_title'] = movie_df_raw['title']\n",
    "movie_df_raw['scrubbed_title'] = movie_df_raw['scrubbed_title'].str.replace('[^\\w]','')\n",
    "movie_df_raw['scrubbed_title'] = movie_df_raw['scrubbed_title'].str.lower()\n",
    "\n",
    "critic_df_raw['scrubbed_title'] = critic_df_raw['title']\n",
    "critic_df_raw['scrubbed_title'] = critic_df_raw['scrubbed_title'].str.replace('[^\\w]','')\n",
    "critic_df_raw['scrubbed_title'] = critic_df_raw['scrubbed_title'].str.lower()"
   ]
  },
  {
   "cell_type": "code",
   "execution_count": 16,
   "metadata": {
    "collapsed": true
   },
   "outputs": [],
   "source": [
    "rawDataDF = movie_df_raw.merge(critic_df_raw, how = 'inner', on = [\"year\", \"scrubbed_title\"])"
   ]
  },
  {
   "cell_type": "code",
   "execution_count": 17,
   "metadata": {
    "collapsed": false
   },
   "outputs": [
    {
     "name": "stdout",
     "output_type": "stream",
     "text": [
      "                           alt_title       director_x  domestic_gross  \\\n",
      "0                 10,000 B.C. (2008)  Roland Emmerich      94784201.0   \n",
      "1              102 Dalmatians (2000)             None      66957026.0   \n",
      "2  10 Things I Hate About You (1999)             None      38178166.0   \n",
      "3                    10 Years (2012)     Jamie Linden        203373.0   \n",
      "4                  11 Flowers (2013)             None          9213.0   \n",
      "\n",
      "               mojo_slug  opening_per_theater  opening_weekend_take  \\\n",
      "0                10000bc              10518.0            35867488.0   \n",
      "1          102dalmatians               7353.0            19883351.0   \n",
      "2  10thingsihateaboutyou               3668.0             8330681.0   \n",
      "3                10years               7569.0               22707.0   \n",
      "4              11flowers               1758.0                3516.0   \n",
      "\n",
      "   production_budget release_date_limited release_date_wide  \\\n",
      "0        105000000.0                 None        2008-03-07   \n",
      "1         85000000.0                 None        2000-11-22   \n",
      "2         30000000.0                 None        1999-03-31   \n",
      "3                NaN                 None        2012-09-14   \n",
      "4                NaN                 None        2013-02-22   \n",
      "\n",
      "                      title_x    ...      num_critic_reviews  \\\n",
      "0                 10,000 B.C.    ...          [4, 8, 17, 29]   \n",
      "1             102 Dalmatians     ...          [7, 5, 12, 24]   \n",
      "2  10 Things I Hate About You    ...          [18, 7, 1, 26]   \n",
      "3                    10 Years    ...          [7, 11, 0, 18]   \n",
      "4                 11 Flowers     ...            [4, 3, 0, 7]   \n",
      "\n",
      "   num_user_ratings   num_user_reviews     rating release_date  \\\n",
      "0             273.0  [50, 18, 60, 128]      PG-13   2008-03-07   \n",
      "1              47.0      [7, 3, 3, 13]          G   2000-11-22   \n",
      "2             175.0     [27, 1, 1, 29]      PG-13   1999-03-31   \n",
      "3              12.0       [3, 2, 1, 6]          R   2012-09-14   \n",
      "4               NaN       [1, 0, 0, 1]  Not Rated   2013-02-22   \n",
      "\n",
      "  runtime_minutes                    studio                     title_y  \\\n",
      "0           109.0     Warner Bros. Pictures                   10,000 BC   \n",
      "1           100.0      Buena Vista Pictures              102 Dalmatians   \n",
      "2            97.0      Buena Vista Pictures  10 Things I Hate About You   \n",
      "3           100.0  Anchor Bay Entertainment                    10 Years   \n",
      "4           110.0        First Run Features                  11 Flowers   \n",
      "\n",
      "   unable to retrieve user_score  \n",
      "0                 NaN        4.6  \n",
      "1                 NaN        5.3  \n",
      "2                 NaN          7  \n",
      "3                 NaN        6.6  \n",
      "4                 NaN        tbd  \n",
      "\n",
      "[5 rows x 29 columns]\n"
     ]
    }
   ],
   "source": [
    "print rawDataDF.head(5)"
   ]
  },
  {
   "cell_type": "code",
   "execution_count": 18,
   "metadata": {
    "collapsed": false
   },
   "outputs": [
    {
     "name": "stdout",
     "output_type": "stream",
     "text": [
      "(3347, 29)\n",
      "alt_title                  0\n",
      "director_x              1321\n",
      "domestic_gross            42\n",
      "mojo_slug                  0\n",
      "opening_per_theater      105\n",
      "opening_weekend_take     105\n",
      "production_budget       1840\n",
      "release_date_limited    3073\n",
      "release_date_wide          3\n",
      "title_x                    0\n",
      "widest_release            80\n",
      "worldwide_gross          720\n",
      "year                       0\n",
      "scrubbed_title             0\n",
      "complete                   0\n",
      "director_y                 0\n",
      "genre                      0\n",
      "metacritic_page            0\n",
      "metascore                 76\n",
      "num_critic_reviews         0\n",
      "num_user_ratings         141\n",
      "num_user_reviews           0\n",
      "rating                     0\n",
      "release_date               0\n",
      "runtime_minutes           53\n",
      "studio                    18\n",
      "title_y                    0\n",
      "unable to retrieve      3347\n",
      "user_score                 0\n",
      "dtype: int64\n"
     ]
    }
   ],
   "source": [
    "print rawDataDF.shape\n",
    "\n",
    "print rawDataDF.isnull().sum()"
   ]
  },
  {
   "cell_type": "code",
   "execution_count": null,
   "metadata": {
    "collapsed": false,
    "scrolled": true
   },
   "outputs": [],
   "source": [
    "import pprint\n",
    "DirectorList = rawDataDF.director_y.unique()\n",
    "\n",
    "for director in DirectorList:\n",
    "    print director"
   ]
  },
  {
   "cell_type": "code",
   "execution_count": null,
   "metadata": {
    "collapsed": true
   },
   "outputs": [],
   "source": [
    "rawDataDF[rawDataDF.studio.notnull()]."
   ]
  },
  {
   "cell_type": "code",
   "execution_count": 122,
   "metadata": {
    "collapsed": false
   },
   "outputs": [
    {
     "data": {
      "text/plain": [
       "<matplotlib.axes._subplots.AxesSubplot at 0x11d2a22d0>"
      ]
     },
     "execution_count": 122,
     "metadata": {},
     "output_type": "execute_result"
    },
    {
     "data": {
      "image/png": "[encoded data removed]",
      "text/plain": [
       "<matplotlib.figure.Figure at 0x11d62e6d0>"
      ]
     },
     "metadata": {},
     "output_type": "display_data"
    }
   ],
   "source": [
    "\n",
    "aggregations = {\n",
    "    'title_x': {\n",
    "        'total_movies': 'count'\n",
    "    },\n",
    "    'domestic_gross': {\n",
    "        'avarage_gross': 'mean'\n",
    "    },\n",
    "    'metascore': {\n",
    "        'average_metascore': 'mean'\n",
    "    }\n",
    "}\n",
    "\n",
    "\n",
    "studioClassification = rawDataDF[rawDataDF.studio.notnull()].groupby(['studio']).agg(aggregations)\n",
    "studioClassification['title_x']['total_movies'].head()\n",
    "studioClassification['title_x']['total_movies'].plot(kind='hist')"
   ]
  },
  {
   "cell_type": "code",
   "execution_count": 132,
   "metadata": {
    "collapsed": false
   },
   "outputs": [
    {
     "data": {
      "text/plain": [
       "<matplotlib.axes._subplots.AxesSubplot at 0x11e841bd0>"
      ]
     },
     "execution_count": 132,
     "metadata": {},
     "output_type": "execute_result"
    },
    {
     "data": {
      "image/png": "[encoded data removed]",
      "text/plain": [
       "<matplotlib.figure.Figure at 0x11e250450>"
      ]
     },
     "metadata": {},
     "output_type": "display_data"
    }
   ],
   "source": [
    "aggregations = {\n",
    "    'title_x':'count',\n",
    "    'domestic_gross': 'median',\n",
    "    'metascore':'mean'}\n",
    "\n",
    "\n",
    "sc = rawDataDF[rawDataDF.studio.notnull()].groupby(['studio']).agg(aggregations)\n",
    "sc_df = sc.add_suffix('_Count').reset_index()\n",
    "sc_df.rename(columns={'title_x_Count': 'movie_count', 'metascore_Count': 'metascore_mean', 'domestic_gross_Count': 'domestic_gross_median'}, inplace=True)\n",
    "#sc_df['movie_count'].plot(kind='hist')\n",
    "sc_df['domestic_gross_median'].plot(kind='hist')\n"
   ]
  },
  {
   "cell_type": "code",
   "execution_count": 133,
   "metadata": {
    "collapsed": false
   },
   "outputs": [
    {
     "data": {
      "image/png": "[encoded data removed]",
      "text/plain": [
       "<matplotlib.figure.Figure at 0x11da6bbd0>"
      ]
     },
     "metadata": {},
     "output_type": "display_data"
    }
   ],
   "source": [
    "sc_df['metascore_mean'].plot(kind='hist')\n",
    "sc_df['metascore_mean_bucket'] = sc_df['metascore_mean'].apply(lambda x: 'L' if x <= 40 else 'M' if x <= 70 else 'H')\n"
   ]
  },
  {
   "cell_type": "code",
   "execution_count": null,
   "metadata": {
    "collapsed": false
   },
   "outputs": [],
   "source": [
    "sc_df"
   ]
  },
  {
   "cell_type": "code",
   "execution_count": 110,
   "metadata": {
    "collapsed": false
   },
   "outputs": [
    {
     "data": {
      "text/plain": [
       "<matplotlib.axes._subplots.AxesSubplot at 0x11d551f10>"
      ]
     },
     "execution_count": 110,
     "metadata": {},
     "output_type": "execute_result"
    },
    {
     "data": {
      "image/png": "[encoded data removed]",
      "text/plain": [
       "<matplotlib.figure.Figure at 0x11e959c90>"
      ]
     },
     "metadata": {},
     "output_type": "display_data"
    }
   ],
   "source": [
    "sc_df['movie_count'].plot(kind='hist')"
   ]
  },
  {
   "cell_type": "code",
   "execution_count": 136,
   "metadata": {
    "collapsed": false
   },
   "outputs": [],
   "source": [
    "sc_df['domestic_gross_median_bucket'] = sc_df['domestic_gross_median'].apply(lambda x: 'L' if x <= 200000000 else 'M' if x <= 500000000 else 'H')\n",
    "sc_df['movie_count_bucket'] = sc_df['movie_count'].apply(lambda x: 'S' if x <= 10 else 'M' if x <=25 else 'B') "
   ]
  },
  {
   "cell_type": "code",
   "execution_count": 126,
   "metadata": {
    "collapsed": false
   },
   "outputs": [],
   "source": [
    "sc_df = sc_df[sc_df.studio != '']"
   ]
  },
  {
   "cell_type": "code",
   "execution_count": 137,
   "metadata": {
    "collapsed": false
   },
   "outputs": [
    {
     "data": {
      "text/html": [
       "<div>\n",
       "<table border=\"1\" class=\"dataframe\">\n",
       "  <thead>\n",
       "    <tr style=\"text-align: right;\">\n",
       "      <th></th>\n",
       "      <th>studio</th>\n",
       "      <th>movie_count</th>\n",
       "      <th>metascore_mean</th>\n",
       "      <th>domestic_gross_median</th>\n",
       "      <th>metascore_mean_bucket</th>\n",
       "      <th>domestic_gross_median_bucket</th>\n",
       "      <th>movie_count_bucket</th>\n",
       "    </tr>\n",
       "  </thead>\n",
       "  <tbody>\n",
       "    <tr>\n",
       "      <th>311</th>\n",
       "      <td>Walt Disney Studios Motion Pictures</td>\n",
       "      <td>45</td>\n",
       "      <td>55.0</td>\n",
       "      <td>79884879.0</td>\n",
       "      <td>M</td>\n",
       "      <td>L</td>\n",
       "      <td>B</td>\n",
       "    </tr>\n",
       "  </tbody>\n",
       "</table>\n",
       "</div>"
      ],
      "text/plain": [
       "                                  studio  movie_count  metascore_mean  \\\n",
       "311  Walt Disney Studios Motion Pictures           45            55.0   \n",
       "\n",
       "     domestic_gross_median metascore_mean_bucket domestic_gross_median_bucket  \\\n",
       "311             79884879.0                     M                            L   \n",
       "\n",
       "    movie_count_bucket  \n",
       "311                  B  "
      ]
     },
     "execution_count": 137,
     "metadata": {},
     "output_type": "execute_result"
    }
   ],
   "source": [
    "sc_df[sc_df.studio == 'Walt Disney Studios Motion Pictures']"
   ]
  },
  {
   "cell_type": "code",
   "execution_count": 138,
   "metadata": {
    "collapsed": true
   },
   "outputs": [],
   "source": [
    "sc_df.to_csv('studio.csv', Header=True, encoding = 'utf-8')"
   ]
  }
 ],
 "metadata": {
  "kernelspec": {
   "display_name": "Python 2",
   "language": "python",
   "name": "python2"
  },
  "language_info": {
   "codemirror_mode": {
    "name": "ipython",
    "version": 2
   },
   "file_extension": ".py",
   "mimetype": "text/x-python",
   "name": "python",
   "nbconvert_exporter": "python",
   "pygments_lexer": "ipython2",
   "version": "2.7.11"
  }
 },
 "nbformat": 4,
 "nbformat_minor": 0
}
