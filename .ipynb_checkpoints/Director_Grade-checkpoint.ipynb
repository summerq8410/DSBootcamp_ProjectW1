{
 "cells": [
  {
   "cell_type": "code",
   "execution_count": 58,
   "metadata": {
    "collapsed": true
   },
   "outputs": [],
   "source": [
    "import pandas as pd\n",
    "import numpy as np\n",
    "%matplotlib inline\n",
    "import matplotlib.pyplot as plt\n",
    "import seaborn as sns\n",
    "from collections import Counter"
   ]
  },
  {
   "cell_type": "code",
   "execution_count": 3,
   "metadata": {
    "collapsed": true
   },
   "outputs": [],
   "source": [
    "raw_movie = pd.read_csv(\"rawData.csv\", sep='|')"
   ]
  },
  {
   "cell_type": "code",
   "execution_count": 43,
   "metadata": {
    "collapsed": false
   },
   "outputs": [
    {
     "data": {
      "text/html": [
       "<div>\n",
       "<table border=\"1\" class=\"dataframe\">\n",
       "  <thead>\n",
       "    <tr style=\"text-align: right;\">\n",
       "      <th></th>\n",
       "      <th>domestic_gross</th>\n",
       "      <th>opening_per_theater</th>\n",
       "      <th>opening_weekend_take</th>\n",
       "      <th>production_budget</th>\n",
       "      <th>widest_release</th>\n",
       "      <th>worldwide_gross</th>\n",
       "      <th>year</th>\n",
       "      <th>complete</th>\n",
       "      <th>metascore</th>\n",
       "      <th>num_user_ratings</th>\n",
       "      <th>runtime_minutes</th>\n",
       "      <th>unable to retrieve</th>\n",
       "    </tr>\n",
       "  </thead>\n",
       "  <tbody>\n",
       "    <tr>\n",
       "      <th>count</th>\n",
       "      <td>3.305000e+03</td>\n",
       "      <td>3242.000000</td>\n",
       "      <td>3.242000e+03</td>\n",
       "      <td>1.507000e+03</td>\n",
       "      <td>3267.000000</td>\n",
       "      <td>2.627000e+03</td>\n",
       "      <td>3347.000000</td>\n",
       "      <td>3347</td>\n",
       "      <td>3271.000000</td>\n",
       "      <td>3206.000000</td>\n",
       "      <td>3294.000000</td>\n",
       "      <td>0</td>\n",
       "    </tr>\n",
       "    <tr>\n",
       "      <th>mean</th>\n",
       "      <td>3.746890e+07</td>\n",
       "      <td>7876.739050</td>\n",
       "      <td>9.302936e+06</td>\n",
       "      <td>4.671307e+07</td>\n",
       "      <td>1408.373431</td>\n",
       "      <td>9.405645e+07</td>\n",
       "      <td>2005.665073</td>\n",
       "      <td>0.910965</td>\n",
       "      <td>57.651483</td>\n",
       "      <td>122.292888</td>\n",
       "      <td>107.380389</td>\n",
       "      <td>NaN</td>\n",
       "    </tr>\n",
       "    <tr>\n",
       "      <th>std</th>\n",
       "      <td>5.798597e+07</td>\n",
       "      <td>8402.588393</td>\n",
       "      <td>1.437162e+07</td>\n",
       "      <td>4.103343e+07</td>\n",
       "      <td>1303.585481</td>\n",
       "      <td>1.518945e+08</td>\n",
       "      <td>7.717237</td>\n",
       "      <td>0.284837</td>\n",
       "      <td>18.073014</td>\n",
       "      <td>219.873472</td>\n",
       "      <td>19.317212</td>\n",
       "      <td>NaN</td>\n",
       "    </tr>\n",
       "    <tr>\n",
       "      <th>min</th>\n",
       "      <td>7.200000e+01</td>\n",
       "      <td>72.000000</td>\n",
       "      <td>7.200000e+01</td>\n",
       "      <td>2.200000e+02</td>\n",
       "      <td>1.000000</td>\n",
       "      <td>7.200000e+01</td>\n",
       "      <td>1967.000000</td>\n",
       "      <td>False</td>\n",
       "      <td>1.000000</td>\n",
       "      <td>4.000000</td>\n",
       "      <td>60.000000</td>\n",
       "      <td>NaN</td>\n",
       "    </tr>\n",
       "    <tr>\n",
       "      <th>25%</th>\n",
       "      <td>6.858390e+05</td>\n",
       "      <td>3300.000000</td>\n",
       "      <td>5.134250e+04</td>\n",
       "      <td>1.700000e+07</td>\n",
       "      <td>58.000000</td>\n",
       "      <td>6.247501e+06</td>\n",
       "      <td>2002.000000</td>\n",
       "      <td>1</td>\n",
       "      <td>45.000000</td>\n",
       "      <td>23.000000</td>\n",
       "      <td>94.000000</td>\n",
       "      <td>NaN</td>\n",
       "    </tr>\n",
       "    <tr>\n",
       "      <th>50%</th>\n",
       "      <td>1.440156e+07</td>\n",
       "      <td>5624.500000</td>\n",
       "      <td>3.761571e+06</td>\n",
       "      <td>3.500000e+07</td>\n",
       "      <td>1212.000000</td>\n",
       "      <td>3.857436e+07</td>\n",
       "      <td>2007.000000</td>\n",
       "      <td>1</td>\n",
       "      <td>58.000000</td>\n",
       "      <td>57.000000</td>\n",
       "      <td>104.000000</td>\n",
       "      <td>NaN</td>\n",
       "    </tr>\n",
       "    <tr>\n",
       "      <th>75%</th>\n",
       "      <td>5.185488e+07</td>\n",
       "      <td>9590.000000</td>\n",
       "      <td>1.326648e+07</td>\n",
       "      <td>6.500000e+07</td>\n",
       "      <td>2635.500000</td>\n",
       "      <td>1.210275e+08</td>\n",
       "      <td>2012.000000</td>\n",
       "      <td>1</td>\n",
       "      <td>71.000000</td>\n",
       "      <td>130.000000</td>\n",
       "      <td>117.000000</td>\n",
       "      <td>NaN</td>\n",
       "    </tr>\n",
       "    <tr>\n",
       "      <th>max</th>\n",
       "      <td>7.605076e+08</td>\n",
       "      <td>204230.000000</td>\n",
       "      <td>1.741446e+08</td>\n",
       "      <td>2.150000e+08</td>\n",
       "      <td>4468.000000</td>\n",
       "      <td>2.787965e+09</td>\n",
       "      <td>2015.000000</td>\n",
       "      <td>True</td>\n",
       "      <td>100.000000</td>\n",
       "      <td>4002.000000</td>\n",
       "      <td>325.000000</td>\n",
       "      <td>NaN</td>\n",
       "    </tr>\n",
       "  </tbody>\n",
       "</table>\n",
       "</div>"
      ],
      "text/plain": [
       "       domestic_gross  opening_per_theater  opening_weekend_take  \\\n",
       "count    3.305000e+03          3242.000000          3.242000e+03   \n",
       "mean     3.746890e+07          7876.739050          9.302936e+06   \n",
       "std      5.798597e+07          8402.588393          1.437162e+07   \n",
       "min      7.200000e+01            72.000000          7.200000e+01   \n",
       "25%      6.858390e+05          3300.000000          5.134250e+04   \n",
       "50%      1.440156e+07          5624.500000          3.761571e+06   \n",
       "75%      5.185488e+07          9590.000000          1.326648e+07   \n",
       "max      7.605076e+08        204230.000000          1.741446e+08   \n",
       "\n",
       "       production_budget  widest_release  worldwide_gross         year  \\\n",
       "count       1.507000e+03     3267.000000     2.627000e+03  3347.000000   \n",
       "mean        4.671307e+07     1408.373431     9.405645e+07  2005.665073   \n",
       "std         4.103343e+07     1303.585481     1.518945e+08     7.717237   \n",
       "min         2.200000e+02        1.000000     7.200000e+01  1967.000000   \n",
       "25%         1.700000e+07       58.000000     6.247501e+06  2002.000000   \n",
       "50%         3.500000e+07     1212.000000     3.857436e+07  2007.000000   \n",
       "75%         6.500000e+07     2635.500000     1.210275e+08  2012.000000   \n",
       "max         2.150000e+08     4468.000000     2.787965e+09  2015.000000   \n",
       "\n",
       "       complete    metascore  num_user_ratings  runtime_minutes  \\\n",
       "count      3347  3271.000000       3206.000000      3294.000000   \n",
       "mean   0.910965    57.651483        122.292888       107.380389   \n",
       "std    0.284837    18.073014        219.873472        19.317212   \n",
       "min       False     1.000000          4.000000        60.000000   \n",
       "25%           1    45.000000         23.000000        94.000000   \n",
       "50%           1    58.000000         57.000000       104.000000   \n",
       "75%           1    71.000000        130.000000       117.000000   \n",
       "max        True   100.000000       4002.000000       325.000000   \n",
       "\n",
       "       unable to retrieve  \n",
       "count                   0  \n",
       "mean                  NaN  \n",
       "std                   NaN  \n",
       "min                   NaN  \n",
       "25%                   NaN  \n",
       "50%                   NaN  \n",
       "75%                   NaN  \n",
       "max                   NaN  "
      ]
     },
     "execution_count": 43,
     "metadata": {},
     "output_type": "execute_result"
    }
   ],
   "source": [
    "raw_movie.describe()"
   ]
  },
  {
   "cell_type": "code",
   "execution_count": 22,
   "metadata": {
    "collapsed": false
   },
   "outputs": [
    {
     "name": "stdout",
     "output_type": "stream",
     "text": [
      "alt_title                  0\n",
      "director_x              1321\n",
      "domestic_gross            42\n",
      "mojo_slug                  0\n",
      "opening_per_theater      105\n",
      "opening_weekend_take     105\n",
      "production_budget       1840\n",
      "release_date_limited    3073\n",
      "release_date_wide          3\n",
      "title_x                    0\n",
      "widest_release            80\n",
      "worldwide_gross          720\n",
      "year                       0\n",
      "scrubbed_title             0\n",
      "complete                   0\n",
      "director_y                 1\n",
      "genre                      3\n",
      "metacritic_page            0\n",
      "metascore                 76\n",
      "num_critic_reviews         0\n",
      "num_user_ratings         141\n",
      "num_user_reviews           0\n",
      "rating                    85\n",
      "release_date               0\n",
      "runtime_minutes           53\n",
      "studio                    49\n",
      "title_y                    0\n",
      "unable to retrieve      3347\n",
      "user_score                 0\n",
      "dtype: int64\n"
     ]
    }
   ],
   "source": [
    "print raw_movie.isnull().sum()"
   ]
  },
  {
   "cell_type": "code",
   "execution_count": 13,
   "metadata": {
    "collapsed": false
   },
   "outputs": [],
   "source": [
    "director_avg = raw_movie.groupby(['director_y']).mean()"
   ]
  },
  {
   "cell_type": "code",
   "execution_count": 23,
   "metadata": {
    "collapsed": true
   },
   "outputs": [],
   "source": [
    "director_avg_count = raw_movie[['alt_title','director_y']].groupby('director_y').count()"
   ]
  },
  {
   "cell_type": "code",
   "execution_count": 25,
   "metadata": {
    "collapsed": false
   },
   "outputs": [],
   "source": [
    "director_avg['movie_num'] = director_avg_count['alt_title']"
   ]
  },
  {
   "cell_type": "code",
   "execution_count": 29,
   "metadata": {
    "collapsed": false
   },
   "outputs": [],
   "source": [
    "director_year = raw_movie[['year','director_y']].groupby(['director_y']).agg(['min', 'max'])"
   ]
  },
  {
   "cell_type": "code",
   "execution_count": 44,
   "metadata": {
    "collapsed": true
   },
   "outputs": [],
   "source": [
    "director_avg['time_since_last_movie']=2016 - director_year.year['max']\n",
    "director_avg['director_year_to2016']=2016-director_year.year['min']+1"
   ]
  },
  {
   "cell_type": "code",
   "execution_count": 45,
   "metadata": {
    "collapsed": false
   },
   "outputs": [],
   "source": [
    "director_avg['director_year']=director_year.year['max']-director_year.year['min']+1"
   ]
  },
  {
   "cell_type": "code",
   "execution_count": 48,
   "metadata": {
    "collapsed": false
   },
   "outputs": [
    {
     "name": "stdout",
     "output_type": "stream",
     "text": [
      "0 0 0\n"
     ]
    }
   ],
   "source": [
    "print sum(director_avg['director_year']<1), sum(director_avg['time_since_last_movie']<1), sum(director_avg['director_year_to2016']<1)"
   ]
  },
  {
   "cell_type": "code",
   "execution_count": 49,
   "metadata": {
    "collapsed": true
   },
   "outputs": [],
   "source": [
    "director_avg['movie_per_year_tolast']=map(lambda x, y: x*1.0/y, director_avg['movie_num'], director_avg['director_year'])\n",
    "director_avg['movie_per_year_to2016']=map(lambda x, y: x*1.0/y, director_avg['movie_num'], director_avg['director_year_to2016'])"
   ]
  },
  {
   "cell_type": "code",
   "execution_count": 62,
   "metadata": {
    "collapsed": false
   },
   "outputs": [
    {
     "data": {
      "text/plain": [
       "array([[<matplotlib.axes._subplots.AxesSubplot object at 0x1350fd890>,\n",
       "        <matplotlib.axes._subplots.AxesSubplot object at 0x135ccafd0>,\n",
       "        <matplotlib.axes._subplots.AxesSubplot object at 0x135744c90>,\n",
       "        <matplotlib.axes._subplots.AxesSubplot object at 0x1343e6550>],\n",
       "       [<matplotlib.axes._subplots.AxesSubplot object at 0x137c04cd0>,\n",
       "        <matplotlib.axes._subplots.AxesSubplot object at 0x137d43110>,\n",
       "        <matplotlib.axes._subplots.AxesSubplot object at 0x137dbe810>,\n",
       "        <matplotlib.axes._subplots.AxesSubplot object at 0x137e1d790>],\n",
       "       [<matplotlib.axes._subplots.AxesSubplot object at 0x137e98d10>,\n",
       "        <matplotlib.axes._subplots.AxesSubplot object at 0x137e48e50>,\n",
       "        <matplotlib.axes._subplots.AxesSubplot object at 0x137f7ca50>,\n",
       "        <matplotlib.axes._subplots.AxesSubplot object at 0x138837e10>],\n",
       "       [<matplotlib.axes._subplots.AxesSubplot object at 0x1388a0590>,\n",
       "        <matplotlib.axes._subplots.AxesSubplot object at 0x138a1d610>,\n",
       "        <matplotlib.axes._subplots.AxesSubplot object at 0x138a7c3d0>,\n",
       "        <matplotlib.axes._subplots.AxesSubplot object at 0x138af7750>],\n",
       "       [<matplotlib.axes._subplots.AxesSubplot object at 0x138b756d0>,\n",
       "        <matplotlib.axes._subplots.AxesSubplot object at 0x138be0690>,\n",
       "        <matplotlib.axes._subplots.AxesSubplot object at 0x138c63950>,\n",
       "        <matplotlib.axes._subplots.AxesSubplot object at 0x138cc5910>]], dtype=object)"
      ]
     },
     "execution_count": 62,
     "metadata": {},
     "output_type": "execute_result"
    },
    {
     "data": {
      "text/plain": [
       "<matplotlib.figure.Figure at 0x134eaed90>"
      ]
     },
     "metadata": {},
     "output_type": "display_data"
    },
    {
     "data": {
      "image/png": "[encoded data removed]",
      "text/plain": [
       "<matplotlib.figure.Figure at 0x12d9de190>"
      ]
     },
     "metadata": {},
     "output_type": "display_data"
    }
   ],
   "source": [
    "plt.figure()\n",
    "director_avg.hist(color='k', alpha=0.5, bins=20, figsize=(15, 15))"
   ]
  },
  {
   "cell_type": "code",
   "execution_count": 87,
   "metadata": {
    "collapsed": false
   },
   "outputs": [
    {
     "data": {
      "image/png": "[encoded data removed]",
      "text/plain": [
       "<matplotlib.figure.Figure at 0x13f6cc5d0>"
      ]
     },
     "metadata": {},
     "output_type": "display_data"
    }
   ],
   "source": [
    "director_avg.opening_weekend_take.hist(bins=500)\n",
    "#(n, bins, patches) = plt.hist(director_avg.opening_weekend_take, bins=300)\n",
    "plt.show()"
   ]
  },
  {
   "cell_type": "code",
   "execution_count": null,
   "metadata": {
    "collapsed": false
   },
   "outputs": [],
   "source": [
    "#from pandas.tools.plotting import scatter_matrix\n",
    "#scatter_matrix(director_avg.dropna(), alpha=0.2, figsize=(15, 15), diagonal='kde')"
   ]
  },
  {
   "cell_type": "code",
   "execution_count": 86,
   "metadata": {
    "collapsed": false
   },
   "outputs": [
    {
     "data": {
      "text/plain": [
       "848"
      ]
     },
     "execution_count": 86,
     "metadata": {},
     "output_type": "execute_result"
    }
   ],
   "source": [
    "sum(director_avg.opening_weekend_take<1e6)"
   ]
  },
  {
   "cell_type": "code",
   "execution_count": 54,
   "metadata": {
    "collapsed": false
   },
   "outputs": [
    {
     "data": {
      "text/html": [
       "<div>\n",
       "<table border=\"1\" class=\"dataframe\">\n",
       "  <thead>\n",
       "    <tr style=\"text-align: right;\">\n",
       "      <th></th>\n",
       "      <th>domestic_gross</th>\n",
       "      <th>opening_per_theater</th>\n",
       "      <th>opening_weekend_take</th>\n",
       "      <th>production_budget</th>\n",
       "      <th>widest_release</th>\n",
       "      <th>worldwide_gross</th>\n",
       "      <th>year</th>\n",
       "      <th>complete</th>\n",
       "      <th>metascore</th>\n",
       "      <th>num_user_ratings</th>\n",
       "      <th>runtime_minutes</th>\n",
       "      <th>unable to retrieve</th>\n",
       "      <th>movie_num</th>\n",
       "      <th>director_year</th>\n",
       "      <th>movie_per_year</th>\n",
       "      <th>time_since_last_movie</th>\n",
       "      <th>director_year_to2016</th>\n",
       "      <th>movie_per_year_tolast</th>\n",
       "      <th>movie_per_year_to2016</th>\n",
       "    </tr>\n",
       "  </thead>\n",
       "  <tbody>\n",
       "    <tr>\n",
       "      <th>count</th>\n",
       "      <td>1.790000e+03</td>\n",
       "      <td>1758.000000</td>\n",
       "      <td>1.758000e+03</td>\n",
       "      <td>8.010000e+02</td>\n",
       "      <td>1775.000000</td>\n",
       "      <td>1.437000e+03</td>\n",
       "      <td>1823.000000</td>\n",
       "      <td>1823.000000</td>\n",
       "      <td>1761.000000</td>\n",
       "      <td>1703.000000</td>\n",
       "      <td>1791.000000</td>\n",
       "      <td>0</td>\n",
       "      <td>1823.000000</td>\n",
       "      <td>1823.000000</td>\n",
       "      <td>1823.000000</td>\n",
       "      <td>1823.000000</td>\n",
       "      <td>1823.000000</td>\n",
       "      <td>1823.000000</td>\n",
       "      <td>1823.000000</td>\n",
       "    </tr>\n",
       "    <tr>\n",
       "      <th>mean</th>\n",
       "      <td>2.565024e+07</td>\n",
       "      <td>7193.938986</td>\n",
       "      <td>6.777652e+06</td>\n",
       "      <td>3.953766e+07</td>\n",
       "      <td>1131.478604</td>\n",
       "      <td>6.753965e+07</td>\n",
       "      <td>2007.257297</td>\n",
       "      <td>0.867614</td>\n",
       "      <td>56.588303</td>\n",
       "      <td>89.798476</td>\n",
       "      <td>103.770248</td>\n",
       "      <td>NaN</td>\n",
       "      <td>1.835436</td>\n",
       "      <td>4.310477</td>\n",
       "      <td>0.799972</td>\n",
       "      <td>7.099835</td>\n",
       "      <td>11.410313</td>\n",
       "      <td>0.799972</td>\n",
       "      <td>0.192268</td>\n",
       "    </tr>\n",
       "    <tr>\n",
       "      <th>std</th>\n",
       "      <td>4.159584e+07</td>\n",
       "      <td>6352.534671</td>\n",
       "      <td>1.079912e+07</td>\n",
       "      <td>3.377720e+07</td>\n",
       "      <td>1203.931814</td>\n",
       "      <td>1.075173e+08</td>\n",
       "      <td>6.460584</td>\n",
       "      <td>0.325983</td>\n",
       "      <td>17.115029</td>\n",
       "      <td>131.648434</td>\n",
       "      <td>16.587546</td>\n",
       "      <td>NaN</td>\n",
       "      <td>1.704683</td>\n",
       "      <td>6.282512</td>\n",
       "      <td>0.323830</td>\n",
       "      <td>6.080679</td>\n",
       "      <td>8.174385</td>\n",
       "      <td>0.323830</td>\n",
       "      <td>0.109337</td>\n",
       "    </tr>\n",
       "    <tr>\n",
       "      <th>min</th>\n",
       "      <td>7.200000e+01</td>\n",
       "      <td>72.000000</td>\n",
       "      <td>7.200000e+01</td>\n",
       "      <td>2.200000e+02</td>\n",
       "      <td>1.000000</td>\n",
       "      <td>7.200000e+01</td>\n",
       "      <td>1968.500000</td>\n",
       "      <td>0.000000</td>\n",
       "      <td>1.000000</td>\n",
       "      <td>4.000000</td>\n",
       "      <td>68.000000</td>\n",
       "      <td>NaN</td>\n",
       "      <td>1.000000</td>\n",
       "      <td>1.000000</td>\n",
       "      <td>0.074074</td>\n",
       "      <td>1.000000</td>\n",
       "      <td>2.000000</td>\n",
       "      <td>0.074074</td>\n",
       "      <td>0.020833</td>\n",
       "    </tr>\n",
       "    <tr>\n",
       "      <th>25%</th>\n",
       "      <td>2.710358e+05</td>\n",
       "      <td>3207.500000</td>\n",
       "      <td>2.877050e+04</td>\n",
       "      <td>1.350000e+07</td>\n",
       "      <td>27.000000</td>\n",
       "      <td>3.469968e+06</td>\n",
       "      <td>2004.000000</td>\n",
       "      <td>1.000000</td>\n",
       "      <td>45.000000</td>\n",
       "      <td>19.000000</td>\n",
       "      <td>92.500000</td>\n",
       "      <td>NaN</td>\n",
       "      <td>1.000000</td>\n",
       "      <td>1.000000</td>\n",
       "      <td>0.500000</td>\n",
       "      <td>3.000000</td>\n",
       "      <td>5.000000</td>\n",
       "      <td>0.500000</td>\n",
       "      <td>0.111111</td>\n",
       "    </tr>\n",
       "    <tr>\n",
       "      <th>50%</th>\n",
       "      <td>6.089684e+06</td>\n",
       "      <td>5567.250000</td>\n",
       "      <td>1.540802e+06</td>\n",
       "      <td>3.000000e+07</td>\n",
       "      <td>547.000000</td>\n",
       "      <td>2.544812e+07</td>\n",
       "      <td>2009.000000</td>\n",
       "      <td>1.000000</td>\n",
       "      <td>57.000000</td>\n",
       "      <td>46.000000</td>\n",
       "      <td>101.000000</td>\n",
       "      <td>NaN</td>\n",
       "      <td>1.000000</td>\n",
       "      <td>1.000000</td>\n",
       "      <td>1.000000</td>\n",
       "      <td>5.000000</td>\n",
       "      <td>9.000000</td>\n",
       "      <td>1.000000</td>\n",
       "      <td>0.166667</td>\n",
       "    </tr>\n",
       "    <tr>\n",
       "      <th>75%</th>\n",
       "      <td>3.803037e+07</td>\n",
       "      <td>9135.187500</td>\n",
       "      <td>1.010192e+07</td>\n",
       "      <td>5.512500e+07</td>\n",
       "      <td>2270.214286</td>\n",
       "      <td>8.944627e+07</td>\n",
       "      <td>2012.000000</td>\n",
       "      <td>1.000000</td>\n",
       "      <td>70.000000</td>\n",
       "      <td>103.000000</td>\n",
       "      <td>112.000000</td>\n",
       "      <td>NaN</td>\n",
       "      <td>2.000000</td>\n",
       "      <td>5.000000</td>\n",
       "      <td>1.000000</td>\n",
       "      <td>9.000000</td>\n",
       "      <td>15.000000</td>\n",
       "      <td>1.000000</td>\n",
       "      <td>0.250000</td>\n",
       "    </tr>\n",
       "    <tr>\n",
       "      <th>max</th>\n",
       "      <td>4.745447e+08</td>\n",
       "      <td>68801.000000</td>\n",
       "      <td>1.103072e+08</td>\n",
       "      <td>2.000000e+08</td>\n",
       "      <td>4268.000000</td>\n",
       "      <td>1.063172e+09</td>\n",
       "      <td>2015.000000</td>\n",
       "      <td>1.000000</td>\n",
       "      <td>94.000000</td>\n",
       "      <td>1637.250000</td>\n",
       "      <td>272.000000</td>\n",
       "      <td>NaN</td>\n",
       "      <td>19.000000</td>\n",
       "      <td>41.000000</td>\n",
       "      <td>3.000000</td>\n",
       "      <td>47.000000</td>\n",
       "      <td>50.000000</td>\n",
       "      <td>3.000000</td>\n",
       "      <td>0.800000</td>\n",
       "    </tr>\n",
       "  </tbody>\n",
       "</table>\n",
       "</div>"
      ],
      "text/plain": [
       "       domestic_gross  opening_per_theater  opening_weekend_take  \\\n",
       "count    1.790000e+03          1758.000000          1.758000e+03   \n",
       "mean     2.565024e+07          7193.938986          6.777652e+06   \n",
       "std      4.159584e+07          6352.534671          1.079912e+07   \n",
       "min      7.200000e+01            72.000000          7.200000e+01   \n",
       "25%      2.710358e+05          3207.500000          2.877050e+04   \n",
       "50%      6.089684e+06          5567.250000          1.540802e+06   \n",
       "75%      3.803037e+07          9135.187500          1.010192e+07   \n",
       "max      4.745447e+08         68801.000000          1.103072e+08   \n",
       "\n",
       "       production_budget  widest_release  worldwide_gross         year  \\\n",
       "count       8.010000e+02     1775.000000     1.437000e+03  1823.000000   \n",
       "mean        3.953766e+07     1131.478604     6.753965e+07  2007.257297   \n",
       "std         3.377720e+07     1203.931814     1.075173e+08     6.460584   \n",
       "min         2.200000e+02        1.000000     7.200000e+01  1968.500000   \n",
       "25%         1.350000e+07       27.000000     3.469968e+06  2004.000000   \n",
       "50%         3.000000e+07      547.000000     2.544812e+07  2009.000000   \n",
       "75%         5.512500e+07     2270.214286     8.944627e+07  2012.000000   \n",
       "max         2.000000e+08     4268.000000     1.063172e+09  2015.000000   \n",
       "\n",
       "          complete    metascore  num_user_ratings  runtime_minutes  \\\n",
       "count  1823.000000  1761.000000       1703.000000      1791.000000   \n",
       "mean      0.867614    56.588303         89.798476       103.770248   \n",
       "std       0.325983    17.115029        131.648434        16.587546   \n",
       "min       0.000000     1.000000          4.000000        68.000000   \n",
       "25%       1.000000    45.000000         19.000000        92.500000   \n",
       "50%       1.000000    57.000000         46.000000       101.000000   \n",
       "75%       1.000000    70.000000        103.000000       112.000000   \n",
       "max       1.000000    94.000000       1637.250000       272.000000   \n",
       "\n",
       "       unable to retrieve    movie_num  director_year  movie_per_year  \\\n",
       "count                   0  1823.000000    1823.000000     1823.000000   \n",
       "mean                  NaN     1.835436       4.310477        0.799972   \n",
       "std                   NaN     1.704683       6.282512        0.323830   \n",
       "min                   NaN     1.000000       1.000000        0.074074   \n",
       "25%                   NaN     1.000000       1.000000        0.500000   \n",
       "50%                   NaN     1.000000       1.000000        1.000000   \n",
       "75%                   NaN     2.000000       5.000000        1.000000   \n",
       "max                   NaN    19.000000      41.000000        3.000000   \n",
       "\n",
       "       time_since_last_movie  director_year_to2016  movie_per_year_tolast  \\\n",
       "count            1823.000000           1823.000000            1823.000000   \n",
       "mean                7.099835             11.410313               0.799972   \n",
       "std                 6.080679              8.174385               0.323830   \n",
       "min                 1.000000              2.000000               0.074074   \n",
       "25%                 3.000000              5.000000               0.500000   \n",
       "50%                 5.000000              9.000000               1.000000   \n",
       "75%                 9.000000             15.000000               1.000000   \n",
       "max                47.000000             50.000000               3.000000   \n",
       "\n",
       "       movie_per_year_to2016  \n",
       "count            1823.000000  \n",
       "mean                0.192268  \n",
       "std                 0.109337  \n",
       "min                 0.020833  \n",
       "25%                 0.111111  \n",
       "50%                 0.166667  \n",
       "75%                 0.250000  \n",
       "max                 0.800000  "
      ]
     },
     "execution_count": 54,
     "metadata": {},
     "output_type": "execute_result"
    }
   ],
   "source": [
    "director_avg.describe()"
   ]
  },
  {
   "cell_type": "code",
   "execution_count": 60,
   "metadata": {
    "collapsed": false
   },
   "outputs": [
    {
     "data": {
      "text/plain": [
       "Counter({1: 1192,\n",
       "         2: 302,\n",
       "         3: 123,\n",
       "         4: 81,\n",
       "         5: 45,\n",
       "         6: 23,\n",
       "         7: 29,\n",
       "         8: 9,\n",
       "         9: 6,\n",
       "         10: 3,\n",
       "         11: 3,\n",
       "         12: 2,\n",
       "         13: 1,\n",
       "         14: 2,\n",
       "         18: 1,\n",
       "         19: 1})"
      ]
     },
     "execution_count": 60,
     "metadata": {},
     "output_type": "execute_result"
    }
   ],
   "source": [
    "Counter(director_avg.movie_num)"
   ]
  },
  {
   "cell_type": "code",
   "execution_count": 61,
   "metadata": {
    "collapsed": false
   },
   "outputs": [
    {
     "data": {
      "text/plain": [
       "Counter({1.0: 49,\n",
       "         2.0: 265,\n",
       "         3.0: 272,\n",
       "         4.0: 202,\n",
       "         5.0: 170,\n",
       "         6.0: 137,\n",
       "         7.0: 112,\n",
       "         8.0: 90,\n",
       "         9.0: 86,\n",
       "         10.0: 78,\n",
       "         11.0: 53,\n",
       "         12.0: 52,\n",
       "         13.0: 49,\n",
       "         14.0: 36,\n",
       "         15.0: 27,\n",
       "         16.0: 23,\n",
       "         17.0: 28,\n",
       "         18.0: 17,\n",
       "         19.0: 12,\n",
       "         20.0: 9,\n",
       "         21.0: 8,\n",
       "         22.0: 1,\n",
       "         23.0: 4,\n",
       "         24.0: 4,\n",
       "         26.0: 1,\n",
       "         27.0: 4,\n",
       "         28.0: 3,\n",
       "         29.0: 3,\n",
       "         30.0: 4,\n",
       "         31.0: 2,\n",
       "         32.0: 2,\n",
       "         33.0: 2,\n",
       "         34.0: 3,\n",
       "         35.0: 1,\n",
       "         36.0: 2,\n",
       "         37.0: 3,\n",
       "         38.0: 2,\n",
       "         39.0: 1,\n",
       "         41.0: 1,\n",
       "         42.0: 1,\n",
       "         46.0: 2,\n",
       "         47.0: 2})"
      ]
     },
     "execution_count": 61,
     "metadata": {},
     "output_type": "execute_result"
    }
   ],
   "source": [
    "Counter(director_avg.time_since_last_movie)"
   ]
  },
  {
   "cell_type": "code",
   "execution_count": null,
   "metadata": {
    "collapsed": true
   },
   "outputs": [],
   "source": [
    "#40 40-80 80+\n",
    "#\n",
    "#2+\n",
    "#director_avg.opening_weekend_take<1e6\n",
    "director_avg"
   ]
  }
 ],
 "metadata": {
  "kernelspec": {
   "display_name": "Python 2",
   "language": "python",
   "name": "python2"
  },
  "language_info": {
   "codemirror_mode": {
    "name": "ipython",
    "version": 2
   },
   "file_extension": ".py",
   "mimetype": "text/x-python",
   "name": "python",
   "nbconvert_exporter": "python",
   "pygments_lexer": "ipython2",
   "version": "2.7.11"
  }
 },
 "nbformat": 4,
 "nbformat_minor": 0
}
